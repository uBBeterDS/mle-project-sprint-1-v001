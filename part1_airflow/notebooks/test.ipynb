{
 "cells": [
  {
   "cell_type": "code",
   "execution_count": 2,
   "metadata": {},
   "outputs": [],
   "source": [
    "%load_ext autoreload\n",
    "%autoreload 2"
   ]
  },
  {
   "cell_type": "code",
   "execution_count": 3,
   "metadata": {},
   "outputs": [],
   "source": [
    "import os\n",
    "import pandas as pd\n",
    "from dotenv import load_dotenv, find_dotenv\n",
    "from sqlalchemy import create_engine, MetaData, Table\n"
   ]
  },
  {
   "cell_type": "code",
   "execution_count": 4,
   "metadata": {},
   "outputs": [
    {
     "data": {
      "text/plain": [
       "True"
      ]
     },
     "execution_count": 4,
     "metadata": {},
     "output_type": "execute_result"
    }
   ],
   "source": [
    "# подгружаем .env\n",
    "load_dotenv()"
   ]
  },
  {
   "cell_type": "code",
   "execution_count": 5,
   "metadata": {},
   "outputs": [],
   "source": [
    "# Считываем все креды\n",
    "src_host = os.environ.get('DB_SOURCE_HOST')\n",
    "src_port = os.environ.get('DB_SOURCE_PORT')\n",
    "src_username = os.environ.get('DB_SOURCE_USER')\n",
    "src_password = os.environ.get('DB_SOURCE_PASSWORD')\n",
    "src_db = os.environ.get('DB_SOURCE_NAME') \n",
    "\n",
    "dst_host = os.environ.get('DB_DESTINATION_HOST')\n",
    "dst_port = os.environ.get('DB_DESTINATION_PORT')\n",
    "dst_username = os.environ.get('DB_DESTINATION_USER')\n",
    "dst_password = os.environ.get('DB_DESTINATION_PASSWORD')\n",
    "dst_db = os.environ.get('DB_DESTINATION_NAME')\n",
    "\n",
    "s3_bucket = os.environ.get('S3_BUCKET_NAME')\n",
    "s3_access_key = os.environ.get('AWS_ACCESS_KEY_ID')\n",
    "s3_secret_access_key = os.environ.get('AWS_SECRET_ACCESS_KEY')\n",
    "\n",
    "telegram_api_key = os.environ.get('TELEGRAM_BOT_API_KEY')"
   ]
  },
  {
   "cell_type": "code",
   "execution_count": 6,
   "metadata": {},
   "outputs": [
    {
     "name": "stdout",
     "output_type": "stream",
     "text": [
      "7304991854:AAGiGaq5fPFgIWCbvFIaB6GPub2CLy9F4_U\n"
     ]
    }
   ],
   "source": [
    "print(telegram_api_key)"
   ]
  },
  {
   "cell_type": "code",
   "execution_count": 7,
   "metadata": {},
   "outputs": [],
   "source": [
    "# Создадим соединения\n",
    "src_conn = create_engine(f'postgresql://{src_username}:{src_password}@{src_host}:{src_port}/{src_db}')\n",
    "dst_conn = create_engine(f'postgresql://{dst_username}:{dst_password}@{dst_host}:{dst_port}/{dst_db}')"
   ]
  },
  {
   "cell_type": "code",
   "execution_count": 8,
   "metadata": {},
   "outputs": [],
   "source": [
    "# Укажем таблицу для удаления\n",
    "TABLE_NAME = 'buildings'"
   ]
  },
  {
   "cell_type": "code",
   "execution_count": 9,
   "metadata": {},
   "outputs": [
    {
     "data": {
      "text/html": [
       "<div>\n",
       "<style scoped>\n",
       "    .dataframe tbody tr th:only-of-type {\n",
       "        vertical-align: middle;\n",
       "    }\n",
       "\n",
       "    .dataframe tbody tr th {\n",
       "        vertical-align: top;\n",
       "    }\n",
       "\n",
       "    .dataframe thead th {\n",
       "        text-align: right;\n",
       "    }\n",
       "</style>\n",
       "<table border=\"1\" class=\"dataframe\">\n",
       "  <thead>\n",
       "    <tr style=\"text-align: right;\">\n",
       "      <th></th>\n",
       "      <th>id</th>\n",
       "      <th>build_year</th>\n",
       "      <th>building_type_int</th>\n",
       "      <th>latitude</th>\n",
       "      <th>longitude</th>\n",
       "      <th>ceiling_height</th>\n",
       "      <th>flats_count</th>\n",
       "      <th>floors_total</th>\n",
       "      <th>has_elevator</th>\n",
       "    </tr>\n",
       "  </thead>\n",
       "  <tbody>\n",
       "    <tr>\n",
       "      <th>0</th>\n",
       "      <td>6220</td>\n",
       "      <td>1965</td>\n",
       "      <td>6</td>\n",
       "      <td>55.717113</td>\n",
       "      <td>37.781120</td>\n",
       "      <td>2.64</td>\n",
       "      <td>84</td>\n",
       "      <td>12</td>\n",
       "      <td>True</td>\n",
       "    </tr>\n",
       "    <tr>\n",
       "      <th>1</th>\n",
       "      <td>18012</td>\n",
       "      <td>2001</td>\n",
       "      <td>2</td>\n",
       "      <td>55.794849</td>\n",
       "      <td>37.608013</td>\n",
       "      <td>3.00</td>\n",
       "      <td>97</td>\n",
       "      <td>10</td>\n",
       "      <td>True</td>\n",
       "    </tr>\n",
       "    <tr>\n",
       "      <th>2</th>\n",
       "      <td>17821</td>\n",
       "      <td>2000</td>\n",
       "      <td>4</td>\n",
       "      <td>55.740040</td>\n",
       "      <td>37.761742</td>\n",
       "      <td>2.70</td>\n",
       "      <td>80</td>\n",
       "      <td>10</td>\n",
       "      <td>True</td>\n",
       "    </tr>\n",
       "    <tr>\n",
       "      <th>3</th>\n",
       "      <td>18579</td>\n",
       "      <td>2002</td>\n",
       "      <td>4</td>\n",
       "      <td>55.672016</td>\n",
       "      <td>37.570877</td>\n",
       "      <td>2.64</td>\n",
       "      <td>771</td>\n",
       "      <td>17</td>\n",
       "      <td>True</td>\n",
       "    </tr>\n",
       "    <tr>\n",
       "      <th>4</th>\n",
       "      <td>9293</td>\n",
       "      <td>1971</td>\n",
       "      <td>1</td>\n",
       "      <td>55.808807</td>\n",
       "      <td>37.707306</td>\n",
       "      <td>2.60</td>\n",
       "      <td>208</td>\n",
       "      <td>9</td>\n",
       "      <td>True</td>\n",
       "    </tr>\n",
       "  </tbody>\n",
       "</table>\n",
       "</div>"
      ],
      "text/plain": [
       "      id  build_year  building_type_int   latitude  longitude  ceiling_height  \\\n",
       "0   6220        1965                  6  55.717113  37.781120            2.64   \n",
       "1  18012        2001                  2  55.794849  37.608013            3.00   \n",
       "2  17821        2000                  4  55.740040  37.761742            2.70   \n",
       "3  18579        2002                  4  55.672016  37.570877            2.64   \n",
       "4   9293        1971                  1  55.808807  37.707306            2.60   \n",
       "\n",
       "   flats_count  floors_total  has_elevator  \n",
       "0           84            12          True  \n",
       "1           97            10          True  \n",
       "2           80            10          True  \n",
       "3          771            17          True  \n",
       "4          208             9          True  "
      ]
     },
     "execution_count": 9,
     "metadata": {},
     "output_type": "execute_result"
    }
   ],
   "source": [
    "buildings_data = pd.read_sql(f'select * from {TABLE_NAME}', dst_conn)\n",
    "buildings_data.head()"
   ]
  },
  {
   "cell_type": "code",
   "execution_count": 10,
   "metadata": {},
   "outputs": [
    {
     "name": "stdout",
     "output_type": "stream",
     "text": [
      "id                     int64\n",
      "build_year             int64\n",
      "building_type_int      int64\n",
      "latitude             float64\n",
      "longitude            float64\n",
      "ceiling_height       float64\n",
      "flats_count            int64\n",
      "floors_total           int64\n",
      "has_elevator            bool\n",
      "dtype: object\n"
     ]
    }
   ],
   "source": [
    "print(buildings_data.dtypes)"
   ]
  },
  {
   "cell_type": "code",
   "execution_count": null,
   "metadata": {},
   "outputs": [],
   "source": []
  },
  {
   "cell_type": "code",
   "execution_count": 11,
   "metadata": {},
   "outputs": [],
   "source": [
    "TABLE_NAME = 'flats'\n"
   ]
  },
  {
   "cell_type": "code",
   "execution_count": null,
   "metadata": {},
   "outputs": [],
   "source": []
  },
  {
   "cell_type": "code",
   "execution_count": 12,
   "metadata": {},
   "outputs": [
    {
     "data": {
      "text/html": [
       "<div>\n",
       "<style scoped>\n",
       "    .dataframe tbody tr th:only-of-type {\n",
       "        vertical-align: middle;\n",
       "    }\n",
       "\n",
       "    .dataframe tbody tr th {\n",
       "        vertical-align: top;\n",
       "    }\n",
       "\n",
       "    .dataframe thead th {\n",
       "        text-align: right;\n",
       "    }\n",
       "</style>\n",
       "<table border=\"1\" class=\"dataframe\">\n",
       "  <thead>\n",
       "    <tr style=\"text-align: right;\">\n",
       "      <th></th>\n",
       "      <th>id</th>\n",
       "      <th>floor</th>\n",
       "      <th>is_apartment</th>\n",
       "      <th>kitchen_area</th>\n",
       "      <th>living_area</th>\n",
       "      <th>rooms</th>\n",
       "      <th>studio</th>\n",
       "      <th>total_area</th>\n",
       "      <th>price</th>\n",
       "      <th>building_id</th>\n",
       "    </tr>\n",
       "  </thead>\n",
       "  <tbody>\n",
       "    <tr>\n",
       "      <th>0</th>\n",
       "      <td>0</td>\n",
       "      <td>9</td>\n",
       "      <td>False</td>\n",
       "      <td>9.9</td>\n",
       "      <td>19.900000</td>\n",
       "      <td>1</td>\n",
       "      <td>False</td>\n",
       "      <td>35.099998</td>\n",
       "      <td>9500000</td>\n",
       "      <td>6220</td>\n",
       "    </tr>\n",
       "    <tr>\n",
       "      <th>1</th>\n",
       "      <td>1</td>\n",
       "      <td>7</td>\n",
       "      <td>False</td>\n",
       "      <td>0.0</td>\n",
       "      <td>16.600000</td>\n",
       "      <td>1</td>\n",
       "      <td>False</td>\n",
       "      <td>43.000000</td>\n",
       "      <td>13500000</td>\n",
       "      <td>18012</td>\n",
       "    </tr>\n",
       "    <tr>\n",
       "      <th>2</th>\n",
       "      <td>2</td>\n",
       "      <td>9</td>\n",
       "      <td>False</td>\n",
       "      <td>9.0</td>\n",
       "      <td>32.000000</td>\n",
       "      <td>2</td>\n",
       "      <td>False</td>\n",
       "      <td>56.000000</td>\n",
       "      <td>13500000</td>\n",
       "      <td>17821</td>\n",
       "    </tr>\n",
       "    <tr>\n",
       "      <th>3</th>\n",
       "      <td>3</td>\n",
       "      <td>1</td>\n",
       "      <td>False</td>\n",
       "      <td>10.1</td>\n",
       "      <td>43.099998</td>\n",
       "      <td>3</td>\n",
       "      <td>False</td>\n",
       "      <td>76.000000</td>\n",
       "      <td>20000000</td>\n",
       "      <td>18579</td>\n",
       "    </tr>\n",
       "    <tr>\n",
       "      <th>4</th>\n",
       "      <td>4</td>\n",
       "      <td>3</td>\n",
       "      <td>False</td>\n",
       "      <td>3.0</td>\n",
       "      <td>14.000000</td>\n",
       "      <td>1</td>\n",
       "      <td>False</td>\n",
       "      <td>24.000000</td>\n",
       "      <td>5200000</td>\n",
       "      <td>9293</td>\n",
       "    </tr>\n",
       "  </tbody>\n",
       "</table>\n",
       "</div>"
      ],
      "text/plain": [
       "   id  floor  is_apartment  kitchen_area  living_area  rooms  studio  \\\n",
       "0   0      9         False           9.9    19.900000      1   False   \n",
       "1   1      7         False           0.0    16.600000      1   False   \n",
       "2   2      9         False           9.0    32.000000      2   False   \n",
       "3   3      1         False          10.1    43.099998      3   False   \n",
       "4   4      3         False           3.0    14.000000      1   False   \n",
       "\n",
       "   total_area     price  building_id  \n",
       "0   35.099998   9500000         6220  \n",
       "1   43.000000  13500000        18012  \n",
       "2   56.000000  13500000        17821  \n",
       "3   76.000000  20000000        18579  \n",
       "4   24.000000   5200000         9293  "
      ]
     },
     "execution_count": 12,
     "metadata": {},
     "output_type": "execute_result"
    }
   ],
   "source": [
    "flats_data = pd.read_sql(f'select * from {TABLE_NAME}', dst_conn)\n",
    "flats_data.head()"
   ]
  },
  {
   "cell_type": "code",
   "execution_count": 13,
   "metadata": {},
   "outputs": [
    {
     "name": "stdout",
     "output_type": "stream",
     "text": [
      "id                int64\n",
      "floor             int64\n",
      "is_apartment       bool\n",
      "kitchen_area    float64\n",
      "living_area     float64\n",
      "rooms             int64\n",
      "studio             bool\n",
      "total_area      float64\n",
      "price             int64\n",
      "building_id       int64\n",
      "dtype: object\n"
     ]
    }
   ],
   "source": [
    "print(flats_data.dtypes)"
   ]
  },
  {
   "cell_type": "code",
   "execution_count": 14,
   "metadata": {},
   "outputs": [
    {
     "data": {
      "text/plain": [
       "(141362, 10)"
      ]
     },
     "execution_count": 14,
     "metadata": {},
     "output_type": "execute_result"
    }
   ],
   "source": [
    "flats_data.shape"
   ]
  },
  {
   "cell_type": "code",
   "execution_count": 15,
   "metadata": {},
   "outputs": [
    {
     "data": {
      "image/png": "[encoded data removed]",
      "text/plain": [
       "<Figure size 640x480 with 1 Axes>"
      ]
     },
     "metadata": {},
     "output_type": "display_data"
    }
   ],
   "source": [
    "import matplotlib.pyplot as plt\n",
    "\n",
    "plt.hist(flats_data['floor'], bins=20)\n",
    "plt.show()"
   ]
  },
  {
   "cell_type": "code",
   "execution_count": 16,
   "metadata": {},
   "outputs": [
    {
     "data": {
      "text/plain": [
       "<Axes: xlabel='is_apartment'>"
      ]
     },
     "execution_count": 16,
     "metadata": {},
     "output_type": "execute_result"
    },
    {
     "data": {
      "image/png": "[encoded data removed]",
      "text/plain": [
       "<Figure size 640x480 with 1 Axes>"
      ]
     },
     "metadata": {},
     "output_type": "display_data"
    }
   ],
   "source": [
    "flats_data['is_apartment'].value_counts().plot(kind='bar')"
   ]
  },
  {
   "cell_type": "code",
   "execution_count": 17,
   "metadata": {},
   "outputs": [
    {
     "data": {
      "image/png": "[encoded data removed]",
      "text/plain": [
       "<Figure size 640x480 with 1 Axes>"
      ]
     },
     "metadata": {},
     "output_type": "display_data"
    }
   ],
   "source": [
    "plt.hist(flats_data['kitchen_area'], bins=20)\n",
    "plt.show()"
   ]
  },
  {
   "cell_type": "code",
   "execution_count": 18,
   "metadata": {},
   "outputs": [
    {
     "data": {
      "image/png": "[encoded data removed]",
      "text/plain": [
       "<Figure size 640x480 with 1 Axes>"
      ]
     },
     "metadata": {},
     "output_type": "display_data"
    }
   ],
   "source": [
    "plt.hist(flats_data['living_area'], bins=50)\n",
    "plt.show()"
   ]
  },
  {
   "cell_type": "code",
   "execution_count": 19,
   "metadata": {},
   "outputs": [
    {
     "name": "stdout",
     "output_type": "stream",
     "text": [
      "f.floor, f.is_apartment, f.kitchen_area, f.living_area, f.rooms, f.studio, f.total_area, f.price, f.build_year, f.building_type_int, b.latitude, b.longitude, b.ceiling_height, b.flats_count, b.floors_total, b.has_elevator, "
     ]
    }
   ],
   "source": [
    "s1 = '''floor             int64\n",
    "is_apartment       bool\n",
    "kitchen_area    float64\n",
    "living_area     float64\n",
    "rooms             int64\n",
    "studio             bool\n",
    "total_area      float64\n",
    "price             int64\n",
    "build_year             int64\n",
    "building_type_int      int64'''\n",
    "s2 = '''latitude             float64\n",
    "longitude            float64\n",
    "ceiling_height       float64\n",
    "flats_count            int64\n",
    "floors_total           int64\n",
    "has_elevator            bool'''\n",
    "s1 = s1.split('\\n')\n",
    "s2 = s2.split('\\n')\n",
    "for line in s1:\n",
    "    line = line.split()\n",
    "    # if line[1] == 'int64':\n",
    "    #     print(f\"Column('{line[0]}', Integer),\")\n",
    "    # elif line[1] == 'float64':\n",
    "    #     print(f\"Column('{line[0]}', Float),\")\n",
    "    # else:\n",
    "    #     print(f\"Column('{line[0]}', Bool),\")\n",
    "    print(f'f.{line[0]}', end=', ')\n",
    "for line in s2:\n",
    "    line = line.split()\n",
    "    print(f'b.{line[0]}', end=', ')"
   ]
  },
  {
   "cell_type": "code",
   "execution_count": 20,
   "metadata": {},
   "outputs": [
    {
     "data": {
      "text/plain": [
       "floor  is_apartment  kitchen_area  living_area  rooms  studio  total_area  price     building_id  id_y   build_year  building_type_int  latitude   longitude  ceiling_height  flats_count  floors_total  has_elevator\n",
       "6      False         10.000000     30.000000    2      False   45.000000   30000000  3729         3729   1961        1                  55.776543  37.635555  2.70            127          8             True            10\n",
       "19     False         10.000000     22.000000    2      False   56.700001   22000000  23510        23510  2016        4                  55.675797  37.443981  2.75            178          23            True             8\n",
       "15     False         10.700000     28.400000    2      False   49.599998   12800000  13890        13890  1983        4                  55.708424  37.399353  2.48            108          16            True             8\n",
       "9      False         3.000000      0.000000     2      False   63.000000   10950000  22627        22627  2014        2                  55.575481  37.471569  2.80            298          12            True             8\n",
       "3      False         33.599998     41.400002    3      False   119.500000  21629500  23996        23996  2018        0                  55.785439  37.496338  2.80            45           16            True             7\n",
       "                                                                                                                                                                                                                         ..\n",
       "4      False         10.000000     20.000000    1      False   38.000000   5900000   21394        21394  2009        4                  55.706696  37.918617  2.64            174          22            True             2\n",
       "                                                               36.000000   7299000   9637         9637   1971        6                  55.663475  37.590973  2.64            80           12            True             2\n",
       "                                                                           6500000   6818         6818   1966        6                  55.799633  37.826744  2.64            168          12            True             2\n",
       "                                   19.200001    1      False   37.900002   9900000   13458        13458  1981        6                  55.705608  37.615650  2.70            108          16            True             2\n",
       "                                   33.000000    2      False   52.000000   12000000  15569        15569  1991        4                  55.653004  37.735134  2.64            128          17            True             2\n",
       "Name: count, Length: 8309, dtype: int64"
      ]
     },
     "execution_count": 20,
     "metadata": {},
     "output_type": "execute_result"
    }
   ],
   "source": [
    "data = flats_data.merge(buildings_data, 'right', left_on='building_id', right_on='id')\n",
    "subset = data.columns.drop('id_x').tolist()\n",
    "is_duplicated_features = data.duplicated(subset=subset, keep=False)\n",
    "duplicated_data = data[is_duplicated_features]\n",
    "duplicates_count = duplicated_data[subset].value_counts()\n",
    "duplicates_count"
   ]
  },
  {
   "cell_type": "code",
   "execution_count": 21,
   "metadata": {},
   "outputs": [
    {
     "data": {
      "text/html": [
       "<div>\n",
       "<style scoped>\n",
       "    .dataframe tbody tr th:only-of-type {\n",
       "        vertical-align: middle;\n",
       "    }\n",
       "\n",
       "    .dataframe tbody tr th {\n",
       "        vertical-align: top;\n",
       "    }\n",
       "\n",
       "    .dataframe thead th {\n",
       "        text-align: right;\n",
       "    }\n",
       "</style>\n",
       "<table border=\"1\" class=\"dataframe\">\n",
       "  <thead>\n",
       "    <tr style=\"text-align: right;\">\n",
       "      <th></th>\n",
       "      <th>id</th>\n",
       "      <th>floor</th>\n",
       "      <th>is_apartment</th>\n",
       "      <th>kitchen_area</th>\n",
       "      <th>living_area</th>\n",
       "      <th>rooms</th>\n",
       "      <th>studio</th>\n",
       "      <th>total_area</th>\n",
       "      <th>price</th>\n",
       "      <th>build_year</th>\n",
       "      <th>building_type_int</th>\n",
       "      <th>latitude</th>\n",
       "      <th>longitude</th>\n",
       "      <th>ceiling_height</th>\n",
       "      <th>flats_count</th>\n",
       "      <th>floors_total</th>\n",
       "      <th>has_elevator</th>\n",
       "    </tr>\n",
       "  </thead>\n",
       "  <tbody>\n",
       "    <tr>\n",
       "      <th>0</th>\n",
       "      <td>0</td>\n",
       "      <td>9</td>\n",
       "      <td>False</td>\n",
       "      <td>9.9</td>\n",
       "      <td>19.9</td>\n",
       "      <td>1</td>\n",
       "      <td>False</td>\n",
       "      <td>35.099998</td>\n",
       "      <td>9500000</td>\n",
       "      <td>1965</td>\n",
       "      <td>6</td>\n",
       "      <td>55.717113</td>\n",
       "      <td>37.781120</td>\n",
       "      <td>2.64</td>\n",
       "      <td>84</td>\n",
       "      <td>12</td>\n",
       "      <td>True</td>\n",
       "    </tr>\n",
       "    <tr>\n",
       "      <th>1</th>\n",
       "      <td>1</td>\n",
       "      <td>7</td>\n",
       "      <td>False</td>\n",
       "      <td>0.0</td>\n",
       "      <td>16.6</td>\n",
       "      <td>1</td>\n",
       "      <td>False</td>\n",
       "      <td>43.000000</td>\n",
       "      <td>13500000</td>\n",
       "      <td>2001</td>\n",
       "      <td>2</td>\n",
       "      <td>55.794849</td>\n",
       "      <td>37.608013</td>\n",
       "      <td>3.00</td>\n",
       "      <td>97</td>\n",
       "      <td>10</td>\n",
       "      <td>True</td>\n",
       "    </tr>\n",
       "    <tr>\n",
       "      <th>2</th>\n",
       "      <td>2</td>\n",
       "      <td>9</td>\n",
       "      <td>False</td>\n",
       "      <td>9.0</td>\n",
       "      <td>32.0</td>\n",
       "      <td>2</td>\n",
       "      <td>False</td>\n",
       "      <td>56.000000</td>\n",
       "      <td>13500000</td>\n",
       "      <td>2000</td>\n",
       "      <td>4</td>\n",
       "      <td>55.740040</td>\n",
       "      <td>37.761742</td>\n",
       "      <td>2.70</td>\n",
       "      <td>80</td>\n",
       "      <td>10</td>\n",
       "      <td>True</td>\n",
       "    </tr>\n",
       "    <tr>\n",
       "      <th>3</th>\n",
       "      <td>4</td>\n",
       "      <td>3</td>\n",
       "      <td>False</td>\n",
       "      <td>3.0</td>\n",
       "      <td>14.0</td>\n",
       "      <td>1</td>\n",
       "      <td>False</td>\n",
       "      <td>24.000000</td>\n",
       "      <td>5200000</td>\n",
       "      <td>1971</td>\n",
       "      <td>1</td>\n",
       "      <td>55.808807</td>\n",
       "      <td>37.707306</td>\n",
       "      <td>2.60</td>\n",
       "      <td>208</td>\n",
       "      <td>9</td>\n",
       "      <td>True</td>\n",
       "    </tr>\n",
       "    <tr>\n",
       "      <th>4</th>\n",
       "      <td>5</td>\n",
       "      <td>9</td>\n",
       "      <td>False</td>\n",
       "      <td>0.0</td>\n",
       "      <td>0.0</td>\n",
       "      <td>2</td>\n",
       "      <td>False</td>\n",
       "      <td>51.009998</td>\n",
       "      <td>8490104</td>\n",
       "      <td>2017</td>\n",
       "      <td>4</td>\n",
       "      <td>55.724728</td>\n",
       "      <td>37.743069</td>\n",
       "      <td>2.70</td>\n",
       "      <td>192</td>\n",
       "      <td>17</td>\n",
       "      <td>True</td>\n",
       "    </tr>\n",
       "  </tbody>\n",
       "</table>\n",
       "</div>"
      ],
      "text/plain": [
       "   id  floor  is_apartment  kitchen_area  living_area  rooms  studio  \\\n",
       "0   0      9         False           9.9         19.9      1   False   \n",
       "1   1      7         False           0.0         16.6      1   False   \n",
       "2   2      9         False           9.0         32.0      2   False   \n",
       "3   4      3         False           3.0         14.0      1   False   \n",
       "4   5      9         False           0.0          0.0      2   False   \n",
       "\n",
       "   total_area     price  build_year  building_type_int   latitude  longitude  \\\n",
       "0   35.099998   9500000        1965                  6  55.717113  37.781120   \n",
       "1   43.000000  13500000        2001                  2  55.794849  37.608013   \n",
       "2   56.000000  13500000        2000                  4  55.740040  37.761742   \n",
       "3   24.000000   5200000        1971                  1  55.808807  37.707306   \n",
       "4   51.009998   8490104        2017                  4  55.724728  37.743069   \n",
       "\n",
       "   ceiling_height  flats_count  floors_total  has_elevator  \n",
       "0            2.64           84            12          True  \n",
       "1            3.00           97            10          True  \n",
       "2            2.70           80            10          True  \n",
       "3            2.60          208             9          True  \n",
       "4            2.70          192            17          True  "
      ]
     },
     "execution_count": 21,
     "metadata": {},
     "output_type": "execute_result"
    }
   ],
   "source": [
    "TABLE_NAME = 'flats_churn'\n",
    "data = pd.read_sql(f'select * from {TABLE_NAME}', dst_conn)\n",
    "data.head()"
   ]
  },
  {
   "cell_type": "code",
   "execution_count": 22,
   "metadata": {},
   "outputs": [
    {
     "data": {
      "text/plain": [
       "(97178, 17)"
      ]
     },
     "execution_count": 22,
     "metadata": {},
     "output_type": "execute_result"
    }
   ],
   "source": [
    "data.shape"
   ]
  }
 ],
 "metadata": {
  "kernelspec": {
   "display_name": ".venv_mle-project-sprint1-v001",
   "language": "python",
   "name": "python3"
  },
  "language_info": {
   "codemirror_mode": {
    "name": "ipython",
    "version": 3
   },
   "file_extension": ".py",
   "mimetype": "text/x-python",
   "name": "python",
   "nbconvert_exporter": "python",
   "pygments_lexer": "ipython3",
   "version": "3.10.12"
  }
 },
 "nbformat": 4,
 "nbformat_minor": 2
}
