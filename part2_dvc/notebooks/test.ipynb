{
 "cells": [
  {
   "cell_type": "code",
   "execution_count": 7,
   "metadata": {},
   "outputs": [
    {
     "data": {
      "text/html": [
       "<div>\n",
       "<style scoped>\n",
       "    .dataframe tbody tr th:only-of-type {\n",
       "        vertical-align: middle;\n",
       "    }\n",
       "\n",
       "    .dataframe tbody tr th {\n",
       "        vertical-align: top;\n",
       "    }\n",
       "\n",
       "    .dataframe thead th {\n",
       "        text-align: right;\n",
       "    }\n",
       "</style>\n",
       "<table border=\"1\" class=\"dataframe\">\n",
       "  <thead>\n",
       "    <tr style=\"text-align: right;\">\n",
       "      <th></th>\n",
       "      <th>is_apartment</th>\n",
       "      <th>has_elevator</th>\n",
       "    </tr>\n",
       "  </thead>\n",
       "  <tbody>\n",
       "    <tr>\n",
       "      <th>0</th>\n",
       "      <td>False</td>\n",
       "      <td>True</td>\n",
       "    </tr>\n",
       "    <tr>\n",
       "      <th>1</th>\n",
       "      <td>False</td>\n",
       "      <td>True</td>\n",
       "    </tr>\n",
       "    <tr>\n",
       "      <th>2</th>\n",
       "      <td>False</td>\n",
       "      <td>True</td>\n",
       "    </tr>\n",
       "    <tr>\n",
       "      <th>3</th>\n",
       "      <td>False</td>\n",
       "      <td>True</td>\n",
       "    </tr>\n",
       "    <tr>\n",
       "      <th>4</th>\n",
       "      <td>False</td>\n",
       "      <td>True</td>\n",
       "    </tr>\n",
       "    <tr>\n",
       "      <th>...</th>\n",
       "      <td>...</td>\n",
       "      <td>...</td>\n",
       "    </tr>\n",
       "    <tr>\n",
       "      <th>103488</th>\n",
       "      <td>False</td>\n",
       "      <td>True</td>\n",
       "    </tr>\n",
       "    <tr>\n",
       "      <th>103489</th>\n",
       "      <td>False</td>\n",
       "      <td>True</td>\n",
       "    </tr>\n",
       "    <tr>\n",
       "      <th>103490</th>\n",
       "      <td>False</td>\n",
       "      <td>True</td>\n",
       "    </tr>\n",
       "    <tr>\n",
       "      <th>103491</th>\n",
       "      <td>False</td>\n",
       "      <td>True</td>\n",
       "    </tr>\n",
       "    <tr>\n",
       "      <th>103492</th>\n",
       "      <td>False</td>\n",
       "      <td>True</td>\n",
       "    </tr>\n",
       "  </tbody>\n",
       "</table>\n",
       "<p>103493 rows × 2 columns</p>\n",
       "</div>"
      ],
      "text/plain": [
       "        is_apartment  has_elevator\n",
       "0              False          True\n",
       "1              False          True\n",
       "2              False          True\n",
       "3              False          True\n",
       "4              False          True\n",
       "...              ...           ...\n",
       "103488         False          True\n",
       "103489         False          True\n",
       "103490         False          True\n",
       "103491         False          True\n",
       "103492         False          True\n",
       "\n",
       "[103493 rows x 2 columns]"
      ]
     },
     "execution_count": 7,
     "metadata": {},
     "output_type": "execute_result"
    }
   ],
   "source": [
    "import pandas as pd\n",
    "import yaml\n",
    "\n",
    "with open('/home/mle-user/mle_projects/mle-project-sprint-1-v001/part2_dvc/params.yaml', 'r') as fd:\n",
    "    params = yaml.safe_load(fd)\n",
    "data = pd.read_csv('/home/mle-user/mle_projects/mle-project-sprint-1-v001/part2_dvc/data/initial_data.csv')\n",
    "\n",
    "cat_features = data.select_dtypes(include='bool')\n",
    "potential_binary_features = cat_features.nunique() == 2\n",
    "\n",
    "binary_cat_features = cat_features[potential_binary_features[potential_binary_features].index]\n"
   ]
  },
  {
   "cell_type": "code",
   "execution_count": 11,
   "metadata": {},
   "outputs": [
    {
     "data": {
      "text/plain": [
       "studio\n",
       "False    103493\n",
       "Name: count, dtype: int64"
      ]
     },
     "execution_count": 11,
     "metadata": {},
     "output_type": "execute_result"
    }
   ],
   "source": [
    "data['studio'].value_counts()"
   ]
  },
  {
   "cell_type": "code",
   "execution_count": null,
   "metadata": {},
   "outputs": [],
   "source": [
    "\n",
    "# Прочитайте файл с гиперпараметрами params.yaml\n",
    "with open('/home/mle-user/mle_projects/mle-dvc/params.yaml', 'r') as fd:\n",
    "    params = yaml.safe_load(fd)\n",
    "# загрузите результат предыдущего шага: inital_data.csv\n",
    "data = pd.read_csv('/home/mle-user/mle_projects/mle-dvc/data/initial_data.csv')\n",
    "# реализуйте основную логику шага с использованием гиперпараметров\n",
    "cat_features = data.select_dtypes(include='object')\n",
    "potential_binary_features = cat_features.nunique() == 2\n",
    "\n",
    "binary_cat_features = cat_features[potential_binary_features[potential_binary_features].index]\n",
    "\n",
    "binary_cat_features"
   ]
  }
 ],
 "metadata": {
  "kernelspec": {
   "display_name": ".venv_mle-project-sprint1-v001",
   "language": "python",
   "name": "python3"
  },
  "language_info": {
   "codemirror_mode": {
    "name": "ipython",
    "version": 3
   },
   "file_extension": ".py",
   "mimetype": "text/x-python",
   "name": "python",
   "nbconvert_exporter": "python",
   "pygments_lexer": "ipython3",
   "version": "3.10.12"
  }
 },
 "nbformat": 4,
 "nbformat_minor": 2
}
